{
 "cells": [
  {
   "cell_type": "code",
   "execution_count": null,
   "metadata": {},
   "outputs": [],
   "source": [
    "import torch"
   ]
  },
  {
   "cell_type": "code",
   "execution_count": null,
   "metadata": {},
   "outputs": [],
   "source": [
    "# numpyメソッドを使用してndarrayに変換\n",
    "t = torch.tensor([[1, 2], [3, 4.]])\n",
    "x = t.numpy()"
   ]
  },
  {
   "cell_type": "code",
   "execution_count": null,
   "metadata": {},
   "outputs": [],
   "source": [
    "# GPU上のTensorはcpuメソッドで、一度CPUのTensorに変換する必要がある\n",
    "t = torch.tensor([[1, 2], [3, 4]], device=\"cuda:0\")\n",
    "x = t.to(\"cpu\").numpy()"
   ]
  }
 ],
 "metadata": {
  "language_info": {
   "codemirror_mode": {
    "name": "ipython",
    "version": 3
   },
   "file_extension": ".py",
   "mimetype": "text/x-python",
   "name": "python",
   "nbconvert_exporter": "python",
   "pygments_lexer": "ipython3",
   "version": "3.6.6-final"
  },
  "orig_nbformat": 2,
  "kernelspec": {
   "name": "python36664bitpytorchvenva846332cf90f4e93bc1bf121ab6b42dc",
   "display_name": "Python 3.6.6 64-bit ('pytorch': venv)"
  }
 },
 "nbformat": 4,
 "nbformat_minor": 2
}