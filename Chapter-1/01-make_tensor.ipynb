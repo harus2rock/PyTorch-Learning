{
 "nbformat": 4,
 "nbformat_minor": 2,
 "metadata": {
  "language_info": {
   "name": "python",
   "codemirror_mode": {
    "name": "ipython",
    "version": 3
   },
   "version": "3.6.6-final"
  },
  "orig_nbformat": 2,
  "file_extension": ".py",
  "mimetype": "text/x-python",
  "name": "python",
  "npconvert_exporter": "python",
  "pygments_lexer": "ipython3",
  "version": 3,
  "kernelspec": {
   "name": "python36664bitpytorchvenva846332cf90f4e93bc1bf121ab6b42dc",
   "display_name": "Python 3.6.6 64-bit ('pytorch': venv)"
  }
 },
 "cells": [
  {
   "cell_type": "code",
   "execution_count": 1,
   "metadata": {},
   "outputs": [],
   "source": [
    "import numpy as np\n",
    "import torch"
   ]
  },
  {
   "cell_type": "code",
   "execution_count": 2,
   "metadata": {},
   "outputs": [],
   "source": [
    "# 入れ子のlistを渡して作成\n",
    "t = torch.tensor([[1,2], [3,4]])"
   ]
  },
  {
   "cell_type": "code",
   "execution_count": null,
   "metadata": {},
   "outputs": [],
   "source": [
    "# deviceを指定することでGPUにTensorを作成する\n",
    "t = torch.tensor([[1,2], [3,4]], device='cuda:0')"
   ]
  },
  {
   "cell_type": "code",
   "execution_count": 3,
   "metadata": {},
   "outputs": [],
   "source": [
    "# dtypeを指定することで倍精度のTensorを作る\n",
    "t = torch.tensor([[1,2], [3,4]], dtype=torch.float64)"
   ]
  },
  {
   "cell_type": "code",
   "execution_count": 4,
   "metadata": {},
   "outputs": [],
   "source": [
    "# 0から9までの数値で初期化された1次元のTensor\n",
    "t = torch.arange(0,10)"
   ]
  },
  {
   "cell_type": "code",
   "execution_count": null,
   "metadata": {},
   "outputs": [],
   "source": [
    "# すべての値が0の100×10のTensorを作成し、toメソッドでGPUに転送する\n",
    "t = torch.zeros(100, 10).to('cuda:0')"
   ]
  },
  {
   "cell_type": "code",
   "execution_count": 5,
   "metadata": {},
   "outputs": [],
   "source": [
    "# 正規乱数で100×10のTensorを作成\n",
    "t = torch.randn(100, 10)"
   ]
  },
  {
   "cell_type": "code",
   "execution_count": 6,
   "metadata": {},
   "outputs": [
    {
     "output_type": "execute_result",
     "data": {
      "text/plain": "torch.Size([100, 10])"
     },
     "metadata": {},
     "execution_count": 6
    }
   ],
   "source": [
    "# Tensorのshapeはsizeメソッドで取得可能\n",
    "t.size()"
   ]
  }
 ]
}